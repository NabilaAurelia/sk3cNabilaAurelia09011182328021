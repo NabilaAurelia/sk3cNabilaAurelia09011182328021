{
 "cells": [
  {
   "cell_type": "code",
   "execution_count": null,
   "metadata": {},
   "outputs": [],
   "source": [
    "import pandas as pd\n",
    "import numpy as np\n",
    "import matplotlib.pyplot as plt\n",
    "import seaborn as sns\n",
    "\n",
    "df = pd.read_csv(r\"c:\\Users\\User\\Downloads\\archive\\heart_disease_uci.csv\")\n",
    "\n",
    "print (df.head())\n",
    "print (df.tail())"
   ]
  },
  {
   "cell_type": "code",
   "execution_count": null,
   "metadata": {},
   "outputs": [],
   "source": [
    "df.info()"
   ]
  },
  {
   "cell_type": "code",
   "execution_count": null,
   "metadata": {},
   "outputs": [],
   "source": [
    "df.isnull().sum()"
   ]
  },
  {
   "cell_type": "code",
   "execution_count": null,
   "metadata": {},
   "outputs": [],
   "source": [
    "df.describe()"
   ]
  },
  {
   "cell_type": "code",
   "execution_count": null,
   "metadata": {},
   "outputs": [],
   "source": [
    "mean_values = df.mean(numeric_only=True)\n",
    "print(mean_values)"
   ]
  },
  {
   "cell_type": "code",
   "execution_count": null,
   "metadata": {},
   "outputs": [],
   "source": [
    "mode_values = df.mode(numeric_only=True)\n",
    "print(mode_values)"
   ]
  },
  {
   "cell_type": "code",
   "execution_count": null,
   "metadata": {},
   "outputs": [],
   "source": [
    "stdv_values = df.std(numeric_only=True)\n",
    "print(stdv_values)"
   ]
  },
  {
   "cell_type": "code",
   "execution_count": null,
   "metadata": {},
   "outputs": [],
   "source": [
    "var_values = df.var(numeric_only=True)\n",
    "print(var_values)"
   ]
  },
  {
   "cell_type": "code",
   "execution_count": null,
   "metadata": {},
   "outputs": [],
   "source": [
    "skew_values = df.skew(numeric_only=True)\n",
    "print(skew_values)"
   ]
  },
  {
   "cell_type": "code",
   "execution_count": null,
   "metadata": {},
   "outputs": [],
   "source": [
    " kurt_values = df.kurt(numeric_only=True)\n",
    "print(kurt_values)"
   ]
  },
  {
   "cell_type": "code",
   "execution_count": null,
   "metadata": {},
   "outputs": [],
   "source": [
    "numeric_columns = df.select_dtypes(include = [np.number]).columns\n",
    "correlation_matrix = df [numeric_columns].corr()\n",
    "\n",
    "\n",
    "plt.figure(figsize=(12,10))\n",
    "sns.heatmap (correlation_matrix, annot = True,cmap='coolwarm', vmin=-1, vmax=1)\n",
    "plt.title('Correlation Matrix of Numeric Features')\n",
    "plt.show()"
   ]
  },
  {
   "cell_type": "code",
   "execution_count": null,
   "metadata": {},
   "outputs": [],
   "source": [
    " df.hist (bins= 30, figsize=(20,15))\n",
    "plt.show()"
   ]
  },
  {
   "cell_type": "code",
   "execution_count": null,
   "metadata": {},
   "outputs": [],
   "source": [
    " df.boxplot(figsize=(15, 10))\n",
    "plt.tight_layout()\n",
    "plt.show()"
   ]
  },
  {
   "cell_type": "code",
   "execution_count": null,
   "metadata": {},
   "outputs": [],
   "source": [
    " target_column = 'num'\n",
    "visualized_feature = ['age', 'trestbps', 'chol', 'thalch', 'oldpeak']\n",
    "\n",
    "sns.pairplot(df[visualized_feature + [target_column]], hue=target_column)\n",
    "plt.suptitle('Pair Plot untuk Fitur Utama', y=1.02)\n",
    "plt.show()\n",
    "\n",
    "fig, axes = plt.subplots(2, 2, figsize=(15, 15))\n",
    "axes = axes.ravel()\n",
    "\n",
    "for i, feature in enumerate(visualized_feature[:4]):\n",
    "    sns.scatterplot(data=df, x=feature, y='thalch', hue=target_column, ax=axes[i])\n",
    "    axes[i].set_title(f'{feature} vs thalch')\n",
    "\n",
    "plt.tight_layout()\n",
    "plt.show()"
   ]
  },
  {
   "cell_type": "code",
   "execution_count": null,
   "metadata": {},
   "outputs": [],
   "source": [
    "plt.figure(figsize=(12, 6))\n",
    "sns.boxplot(data=df)\n",
    "plt.xticks(rotation=90)\n",
    "plt.show()"
   ]
  },
  {
   "cell_type": "markdown",
   "metadata": {},
   "source": [
    "#DATA EKSPLORATION DAN SUMMARY STATISTICS\n",
    "Tugas ini fokus pada eksplorasi dan analisis statistik deskriptif dataset penyakit jantung UCI menggunakan Python dan beberapa library seperti Pandas, NumPy, Matplotlib, dan Seaborn. Langkah pertama adalah memeriksa statistik dasar seperti mean, mode, standar deviasi, varians, skewness, dan kurtosis untuk kolom numerik, guna memahami distribusi data. Selanjutnya, visualisasi dengan heatmap, histogram, boxplot, pair plot, dan scatter plot digunakan untuk mengamati distribusi data, hubungan antar variabel, dan mendeteksi outlier. Analisis ini membantu dalam meningkatkan akurasi model dengan mempertimbangkan transformasi data dan memilih fitur yang memiliki korelasi kuat untuk model prediksi."
   ]
  }
 ],
 "metadata": {
  "language_info": {
   "name": "python"
  }
 },
 "nbformat": 4,
 "nbformat_minor": 2
}
